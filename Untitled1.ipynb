{
 "cells": [
  {
   "cell_type": "code",
   "execution_count": 2,
   "metadata": {},
   "outputs": [
    {
     "name": "stdout",
     "output_type": "stream",
     "text": [
      "0 0.0\n"
     ]
    }
   ],
   "source": [
    "x=0\n",
    "if x>=0:\n",
    "    import math\n",
    "    y=math.sqrt(x)\n",
    "else: \n",
    "    y=x**2\n",
    "print(x,y)\n",
    "    "
   ]
  },
  {
   "cell_type": "code",
   "execution_count": 3,
   "metadata": {},
   "outputs": [
    {
     "name": "stdout",
     "output_type": "stream",
     "text": [
      "1 1.0\n"
     ]
    }
   ],
   "source": [
    "x=1\n",
    "if x>=0:\n",
    "    import math\n",
    "    y=math.sqrt(x)\n",
    "else:\n",
    "    y=x**2\n",
    "print(x,y)"
   ]
  },
  {
   "cell_type": "code",
   "execution_count": 4,
   "metadata": {},
   "outputs": [
    {
     "name": "stdout",
     "output_type": "stream",
     "text": [
      "-5 25\n"
     ]
    }
   ],
   "source": [
    "x=-5\n",
    "if x>=0:\n",
    "    import math\n",
    "    y=math.sqrt(x)\n",
    "else:\n",
    "    y=x**2\n",
    "print(x,y)"
   ]
  },
  {
   "cell_type": "code",
   "execution_count": 16,
   "metadata": {},
   "outputs": [
    {
     "name": "stdout",
     "output_type": "stream",
     "text": [
      "-3.0 1.0\n"
     ]
    }
   ],
   "source": [
    "a=1\n",
    "b=2\n",
    "c=-3\n",
    "D=b**2-4*a*c\n",
    "if D>=0:\n",
    "    import math\n",
    "    x1=(-b-math.sqrt(D))/2*a\n",
    "    x2=(-b+math.sqrt(D))/2*a\n",
    "else:\n",
    "    print('решения нет')\n",
    "print(x1,x2)"
   ]
  },
  {
   "cell_type": "code",
   "execution_count": 19,
   "metadata": {},
   "outputs": [
    {
     "name": "stdout",
     "output_type": "stream",
     "text": [
      "решения нет\n",
      "-3.0 1.0\n"
     ]
    }
   ],
   "source": [
    "a=1\n",
    "b=4\n",
    "c=5\n",
    "D=b**2-4*a*c\n",
    "if D>=0:\n",
    "    import math\n",
    "    x1=(-b-math.sqrt(D))/2*a\n",
    "    x2=(-b+math.sqrt(D))/2*a\n",
    "else:\n",
    "    print('решения нет')\n",
    "print(x1,x2)"
   ]
  },
  {
   "cell_type": "code",
   "execution_count": 20,
   "metadata": {},
   "outputs": [
    {
     "name": "stdout",
     "output_type": "stream",
     "text": [
      "4.062746066806228 19.937253933193773\n"
     ]
    }
   ],
   "source": [
    "a=3\n",
    "b=-8\n",
    "c=3\n",
    "D=b**2-4*a*c\n",
    "if D>=0:\n",
    "    import math\n",
    "    x1=(-b-math.sqrt(D))/2*a\n",
    "    x2=(-b+math.sqrt(D))/2*a\n",
    "else:\n",
    "    print('решения нет')\n",
    "print(x1,x2)"
   ]
  },
  {
   "cell_type": "code",
   "execution_count": 27,
   "metadata": {},
   "outputs": [
    {
     "name": "stdout",
     "output_type": "stream",
     "text": [
      "ошибка\n"
     ]
    },
    {
     "ename": "NameError",
     "evalue": "name 'z' is not defined",
     "output_type": "error",
     "traceback": [
      "\u001b[1;31m---------------------------------------------------------------------------\u001b[0m",
      "\u001b[1;31mNameError\u001b[0m                                 Traceback (most recent call last)",
      "\u001b[1;32m<ipython-input-27-36283c6e9c9e>\u001b[0m in \u001b[0;36m<module>\u001b[1;34m\u001b[0m\n\u001b[0;32m      6\u001b[0m     \u001b[0mz\u001b[0m\u001b[1;33m=\u001b[0m\u001b[0my\u001b[0m\u001b[1;33m/\u001b[0m\u001b[0mx\u001b[0m\u001b[1;33m\u001b[0m\u001b[1;33m\u001b[0m\u001b[0m\n\u001b[0;32m      7\u001b[0m     \u001b[0mprint\u001b[0m\u001b[1;33m(\u001b[0m\u001b[0mz\u001b[0m\u001b[1;33m)\u001b[0m\u001b[1;33m\u001b[0m\u001b[1;33m\u001b[0m\u001b[0m\n\u001b[1;32m----> 8\u001b[1;33m \u001b[0mprint\u001b[0m\u001b[1;33m(\u001b[0m\u001b[0mx\u001b[0m\u001b[1;33m,\u001b[0m\u001b[0my\u001b[0m\u001b[1;33m,\u001b[0m\u001b[0mz\u001b[0m\u001b[1;33m)\u001b[0m\u001b[1;33m\u001b[0m\u001b[1;33m\u001b[0m\u001b[0m\n\u001b[0m",
      "\u001b[1;31mNameError\u001b[0m: name 'z' is not defined"
     ]
    }
   ],
   "source": [
    "x=0\n",
    "y=1\n",
    "if x==0:\n",
    "    print('ошибка')\n",
    "else:\n",
    "    z=y/x\n",
    "print(x,y,z)"
   ]
  },
  {
   "cell_type": "code",
   "execution_count": 28,
   "metadata": {},
   "outputs": [
    {
     "name": "stdout",
     "output_type": "stream",
     "text": [
      "2 4 2.0\n"
     ]
    }
   ],
   "source": [
    "x=2\n",
    "y=4\n",
    "if x==0:\n",
    "    print('ошибка')\n",
    "else:\n",
    "    z=y/x\n",
    "print(x,y,z)"
   ]
  },
  {
   "cell_type": "code",
   "execution_count": 29,
   "metadata": {},
   "outputs": [
    {
     "name": "stdout",
     "output_type": "stream",
     "text": [
      "6 0 0.0\n"
     ]
    }
   ],
   "source": [
    "x=6\n",
    "y=0\n",
    "if x==0:\n",
    "    print('ошибка')\n",
    "else:\n",
    "    z=y/x\n",
    "print(x,y,z)"
   ]
  },
  {
   "cell_type": "code",
   "execution_count": 31,
   "metadata": {},
   "outputs": [
    {
     "name": "stdout",
     "output_type": "stream",
     "text": [
      "400\n"
     ]
    }
   ],
   "source": [
    "a=50\n",
    "b=8\n",
    "s=a*b\n",
    "if s>500:\n",
    "    s=s*0.9\n",
    "else: s\n",
    "print(s)"
   ]
  },
  {
   "cell_type": "code",
   "execution_count": 32,
   "metadata": {},
   "outputs": [
    {
     "name": "stdout",
     "output_type": "stream",
     "text": [
      "900.0\n"
     ]
    }
   ],
   "source": [
    "a=200\n",
    "b=5\n",
    "s=a*b\n",
    "if s>500:\n",
    "    s=s*0.9\n",
    "else: s\n",
    "print(s)"
   ]
  },
  {
   "cell_type": "code",
   "execution_count": 33,
   "metadata": {},
   "outputs": [
    {
     "name": "stdout",
     "output_type": "stream",
     "text": [
      "300\n"
     ]
    }
   ],
   "source": [
    "a=300\n",
    "b=1\n",
    "s=a*b\n",
    "if s>500:\n",
    "    s=s*0.9\n",
    "else: s\n",
    "print(s)"
   ]
  },
  {
   "cell_type": "code",
   "execution_count": 34,
   "metadata": {},
   "outputs": [
    {
     "name": "stdout",
     "output_type": "stream",
     "text": [
      "2880.0\n"
     ]
    }
   ],
   "source": [
    "a=800\n",
    "b=4\n",
    "s=a*b\n",
    "if s>500:\n",
    "    s=s*0.9\n",
    "else: s\n",
    "print(s)"
   ]
  },
  {
   "cell_type": "code",
   "execution_count": null,
   "metadata": {},
   "outputs": [],
   "source": []
  },
  {
   "cell_type": "code",
   "execution_count": null,
   "metadata": {},
   "outputs": [],
   "source": []
  }
 ],
 "metadata": {
  "kernelspec": {
   "display_name": "Python 3",
   "language": "python",
   "name": "python3"
  },
  "language_info": {
   "codemirror_mode": {
    "name": "ipython",
    "version": 3
   },
   "file_extension": ".py",
   "mimetype": "text/x-python",
   "name": "python",
   "nbconvert_exporter": "python",
   "pygments_lexer": "ipython3",
   "version": "3.8.5"
  }
 },
 "nbformat": 4,
 "nbformat_minor": 4
}
