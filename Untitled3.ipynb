{
 "cells": [
  {
   "cell_type": "code",
   "execution_count": 1,
   "metadata": {},
   "outputs": [
    {
     "name": "stdout",
     "output_type": "stream",
     "text": [
      "5\n"
     ]
    }
   ],
   "source": [
    "a=5\n",
    "b=10\n",
    "while a!=b:\n",
    "    a\n",
    "    if a>b:\n",
    "        a=a-b\n",
    "    else:\n",
    "        b=b-a\n",
    "print(a)"
   ]
  },
  {
   "cell_type": "code",
   "execution_count": 2,
   "metadata": {},
   "outputs": [
    {
     "name": "stdout",
     "output_type": "stream",
     "text": [
      "8\n"
     ]
    }
   ],
   "source": [
    "a=8\n",
    "b=8\n",
    "while a!=b:\n",
    "    a\n",
    "    if a>b:\n",
    "        a=a-b\n",
    "    else:\n",
    "        b=b-a\n",
    "print(a)"
   ]
  },
  {
   "cell_type": "code",
   "execution_count": 3,
   "metadata": {},
   "outputs": [
    {
     "name": "stdout",
     "output_type": "stream",
     "text": [
      "4\n"
     ]
    }
   ],
   "source": [
    "a=12\n",
    "b=4\n",
    "while a!=b:\n",
    "    a\n",
    "    if a>b:\n",
    "        a=a-b\n",
    "    else:\n",
    "        b=b-a\n",
    "print(a)"
   ]
  },
  {
   "cell_type": "code",
   "execution_count": 4,
   "metadata": {},
   "outputs": [
    {
     "name": "stdout",
     "output_type": "stream",
     "text": [
      "4\n"
     ]
    }
   ],
   "source": [
    "a=16\n",
    "b=36\n",
    "while a!=b:\n",
    "    a\n",
    "    if a>b:\n",
    "        a=a-b\n",
    "    else:\n",
    "        b=b-a\n",
    "print(a)"
   ]
  },
  {
   "cell_type": "code",
   "execution_count": 23,
   "metadata": {},
   "outputs": [
    {
     "name": "stdout",
     "output_type": "stream",
     "text": [
      "0\n",
      "1\n",
      "1\n"
     ]
    }
   ],
   "source": [
    "n=2\n",
    "s=0\n",
    "i=1\n",
    "while i<=n:\n",
    "    print(s)\n",
    "    s=s+i\n",
    "    print(i)\n",
    "    i=i+2\n",
    "print(s)"
   ]
  },
  {
   "cell_type": "code",
   "execution_count": 22,
   "metadata": {},
   "outputs": [
    {
     "name": "stdout",
     "output_type": "stream",
     "text": [
      "0\n"
     ]
    }
   ],
   "source": [
    "n=0.5\n",
    "s=0\n",
    "i=1\n",
    "while i<=n:\n",
    "    print(s)\n",
    "    s=s+i\n",
    "    print(i)\n",
    "    i=i+2\n",
    "print(s)"
   ]
  },
  {
   "cell_type": "code",
   "execution_count": 29,
   "metadata": {},
   "outputs": [
    {
     "name": "stdout",
     "output_type": "stream",
     "text": [
      "1\n",
      "14\n",
      "14\n",
      "15\n"
     ]
    }
   ],
   "source": [
    "i=i+1\n",
    "p=1\n",
    "while p<=30:\n",
    "    print(p)\n",
    "    p=p*i\n",
    "    print(i)\n",
    "    i=i+1"
   ]
  },
  {
   "cell_type": "code",
   "execution_count": 30,
   "metadata": {},
   "outputs": [],
   "source": [
    "q=2\n",
    "s=0\n",
    "i=1\n",
    "s=s+1\n",
    "i=i+1\n",
    "while s>q:\n",
    "    print(i-2)"
   ]
  },
  {
   "cell_type": "code",
   "execution_count": null,
   "metadata": {},
   "outputs": [],
   "source": [
    "q=0.5\n",
    "s=0\n",
    "i=1\n",
    "s=s+1\n",
    "i=i+1\n",
    "while s>q:\n",
    "    print(i-2)"
   ]
  },
  {
   "cell_type": "code",
   "execution_count": null,
   "metadata": {},
   "outputs": [],
   "source": [
    "n=3\n",
    "i=1\n",
    "s=0\n",
    "s=s+(3*i+2)\n",
    "i=i+1\n",
    "while i<=n"
   ]
  },
  {
   "cell_type": "code",
   "execution_count": null,
   "metadata": {},
   "outputs": [],
   "source": []
  }
 ],
 "metadata": {
  "kernelspec": {
   "display_name": "Python 3",
   "language": "python",
   "name": "python3"
  },
  "language_info": {
   "codemirror_mode": {
    "name": "ipython",
    "version": 3
   },
   "file_extension": ".py",
   "mimetype": "text/x-python",
   "name": "python",
   "nbconvert_exporter": "python",
   "pygments_lexer": "ipython3",
   "version": "3.8.5"
  }
 },
 "nbformat": 4,
 "nbformat_minor": 4
}
