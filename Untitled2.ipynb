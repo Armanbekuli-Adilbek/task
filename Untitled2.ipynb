{
 "cells": [
  {
   "cell_type": "code",
   "execution_count": 3,
   "metadata": {},
   "outputs": [
    {
     "name": "stdout",
     "output_type": "stream",
     "text": [
      "39\n"
     ]
    }
   ],
   "source": [
    "x=10\n",
    "if x<0:\n",
    "    y=x**2+1\n",
    "if x>=1:\n",
    "    y=4*x-1\n",
    "else: \n",
    "    y=2*x+1\n",
    "print(y)"
   ]
  },
  {
   "cell_type": "code",
   "execution_count": 5,
   "metadata": {
    "scrolled": true
   },
   "outputs": [
    {
     "name": "stdout",
     "output_type": "stream",
     "text": [
      "-9\n"
     ]
    }
   ],
   "source": [
    "x=-5\n",
    "if x<0:\n",
    "    y=x**2+1\n",
    "if x>=1:\n",
    "    y=4*x-1\n",
    "else: \n",
    "    y=2*x+1\n",
    "print(y)"
   ]
  },
  {
   "cell_type": "code",
   "execution_count": 6,
   "metadata": {},
   "outputs": [
    {
     "name": "stdout",
     "output_type": "stream",
     "text": [
      "2.0\n"
     ]
    }
   ],
   "source": [
    "x=0.5\n",
    "if x<0:\n",
    "    y=x**2+1\n",
    "if x>=1:\n",
    "    y=4*x-1\n",
    "else: \n",
    "    y=2*x+1\n",
    "print(y)"
   ]
  },
  {
   "cell_type": "code",
   "execution_count": 8,
   "metadata": {},
   "outputs": [
    {
     "name": "stdout",
     "output_type": "stream",
     "text": [
      "5\n"
     ]
    },
    {
     "ename": "ZeroDivisionError",
     "evalue": "division by zero",
     "output_type": "error",
     "traceback": [
      "\u001b[1;31m---------------------------------------------------------------------------\u001b[0m",
      "\u001b[1;31mZeroDivisionError\u001b[0m                         Traceback (most recent call last)",
      "\u001b[1;32m<ipython-input-8-195a3deb8d3f>\u001b[0m in \u001b[0;36m<module>\u001b[1;34m\u001b[0m\n\u001b[0;32m      3\u001b[0m     \u001b[0mprint\u001b[0m \u001b[1;33m(\u001b[0m\u001b[0mx\u001b[0m\u001b[1;33m)\u001b[0m\u001b[1;33m\u001b[0m\u001b[1;33m\u001b[0m\u001b[0m\n\u001b[0;32m      4\u001b[0m     \u001b[0mx\u001b[0m\u001b[1;33m=\u001b[0m\u001b[1;36m5\u001b[0m\u001b[1;33m\u001b[0m\u001b[1;33m\u001b[0m\u001b[0m\n\u001b[1;32m----> 5\u001b[1;33m \u001b[0mc\u001b[0m\u001b[1;33m=\u001b[0m\u001b[1;36m3\u001b[0m\u001b[1;33m/\u001b[0m\u001b[0ma\u001b[0m\u001b[1;33m\u001b[0m\u001b[1;33m\u001b[0m\u001b[0m\n\u001b[0m\u001b[0;32m      6\u001b[0m \u001b[1;32mif\u001b[0m \u001b[0ma\u001b[0m\u001b[1;33m>\u001b[0m\u001b[1;36m0\u001b[0m\u001b[1;33m:\u001b[0m\u001b[1;33m\u001b[0m\u001b[1;33m\u001b[0m\u001b[0m\n\u001b[0;32m      7\u001b[0m     \u001b[0mprint\u001b[0m\u001b[1;33m(\u001b[0m\u001b[0mx\u001b[0m\u001b[1;33m<\u001b[0m\u001b[0mc\u001b[0m\u001b[1;33m)\u001b[0m\u001b[1;33m\u001b[0m\u001b[1;33m\u001b[0m\u001b[0m\n",
      "\u001b[1;31mZeroDivisionError\u001b[0m: division by zero"
     ]
    }
   ],
   "source": [
    "a=0\n",
    "if a==0:\n",
    "    print (x)\n",
    "    x=5\n",
    "c=3/a\n",
    "if a>0:\n",
    "    print(x<c)\n",
    "else:\n",
    "    print(x>c)"
   ]
  },
  {
   "cell_type": "code",
   "execution_count": 10,
   "metadata": {},
   "outputs": [
    {
     "name": "stdout",
     "output_type": "stream",
     "text": [
      "True\n"
     ]
    }
   ],
   "source": [
    "a=-3\n",
    "if a==0:\n",
    "    print (x)\n",
    "    x=5\n",
    "c=3/a\n",
    "if a>0:\n",
    "    print(x<c)\n",
    "else:\n",
    "    print(x>c)"
   ]
  },
  {
   "cell_type": "code",
   "execution_count": 11,
   "metadata": {},
   "outputs": [
    {
     "name": "stdout",
     "output_type": "stream",
     "text": [
      "False\n"
     ]
    }
   ],
   "source": [
    "a=3\n",
    "if a==0:\n",
    "    print (x)\n",
    "    x=5\n",
    "c=3/a\n",
    "if a>0:\n",
    "    print(x<c)\n",
    "else:\n",
    "    print(x>c)"
   ]
  },
  {
   "cell_type": "code",
   "execution_count": 12,
   "metadata": {},
   "outputs": [
    {
     "name": "stdout",
     "output_type": "stream",
     "text": [
      "уравнение не имеет корней\n"
     ]
    }
   ],
   "source": [
    "a=0\n",
    "b=0\n",
    "if a!=0:\n",
    "    print (b/a)\n",
    "if b!=0:\n",
    "    print('любое число корень уравнения')\n",
    "else: \n",
    "    print('уравнение не имеет корней')\n",
    "    "
   ]
  },
  {
   "cell_type": "code",
   "execution_count": 14,
   "metadata": {},
   "outputs": [
    {
     "name": "stdout",
     "output_type": "stream",
     "text": [
      "2.0\n",
      "любое число корень уравнения\n"
     ]
    }
   ],
   "source": [
    "a=5\n",
    "b=10\n",
    "if a!=0:\n",
    "    print (b/a)\n",
    "    if b!=0:\n",
    "        print('любое число корень уравнения')\n",
    "    else: \n",
    "        print('уравнение не имеет корней')\n",
    "    "
   ]
  },
  {
   "cell_type": "code",
   "execution_count": 15,
   "metadata": {},
   "outputs": [
    {
     "name": "stdout",
     "output_type": "stream",
     "text": [
      "0.0\n",
      "уравнение не имеет корней\n"
     ]
    }
   ],
   "source": [
    "a=2\n",
    "b=0\n",
    "if a!=0:\n",
    "    print (b/a)\n",
    "if b!=0:\n",
    "    print('любое число корень уравнения')\n",
    "else: \n",
    "    print('уравнение не имеет корней')\n",
    "    "
   ]
  },
  {
   "cell_type": "code",
   "execution_count": 17,
   "metadata": {},
   "outputs": [
    {
     "name": "stdout",
     "output_type": "stream",
     "text": [
      "5\n"
     ]
    }
   ],
   "source": [
    "a=0\n",
    "b=0\n",
    "if a==0:\n",
    "    if b==0:\n",
    "        print (x)\n",
    "        x=3\n",
    "    else:\n",
    "        print('решений нет')\n",
    "else:\n",
    "    c=b/a\n",
    "    if a>0:\n",
    "        print(x>c)\n",
    "    else:\n",
    "        print(x<c)"
   ]
  },
  {
   "cell_type": "code",
   "execution_count": 18,
   "metadata": {},
   "outputs": [
    {
     "name": "stdout",
     "output_type": "stream",
     "text": [
      "True\n"
     ]
    }
   ],
   "source": [
    "a=5\n",
    "b=10\n",
    "if a==0:\n",
    "    if b==0:\n",
    "        print (x)\n",
    "        x=3\n",
    "    else:\n",
    "        print('решений нет')\n",
    "else:\n",
    "    c=b/a\n",
    "    if a>0:\n",
    "        print(x>c)\n",
    "    else:\n",
    "        print(x<c)"
   ]
  },
  {
   "cell_type": "code",
   "execution_count": 19,
   "metadata": {},
   "outputs": [
    {
     "name": "stdout",
     "output_type": "stream",
     "text": [
      "решений нет\n"
     ]
    }
   ],
   "source": [
    "a=0\n",
    "b=5\n",
    "if a==0:\n",
    "    if b==0:\n",
    "        print (x)\n",
    "        x=3\n",
    "    else:\n",
    "        print('решений нет')\n",
    "else:\n",
    "    c=b/a\n",
    "    if a>0:\n",
    "        print(x>c)\n",
    "    else:\n",
    "        print(x<c)"
   ]
  },
  {
   "cell_type": "code",
   "execution_count": 20,
   "metadata": {},
   "outputs": [
    {
     "name": "stdout",
     "output_type": "stream",
     "text": [
      "False\n"
     ]
    }
   ],
   "source": [
    "a=-10\n",
    "b=20\n",
    "if a==0:\n",
    "    if b==0:\n",
    "        print (x)\n",
    "        x=3\n",
    "    else:\n",
    "        print('решений нет')\n",
    "else:\n",
    "    c=b/a\n",
    "    if a>0:\n",
    "        print(x>c)\n",
    "    else:\n",
    "        print(x<c)"
   ]
  },
  {
   "cell_type": "code",
   "execution_count": 21,
   "metadata": {},
   "outputs": [
    {
     "name": "stdout",
     "output_type": "stream",
     "text": [
      "3\n"
     ]
    }
   ],
   "source": [
    "a=5\n",
    "b=8\n",
    "c=3\n",
    "min=a\n",
    "if min>b:\n",
    "    min=b\n",
    "if min>c:\n",
    "    min=c\n",
    "print(min)"
   ]
  },
  {
   "cell_type": "code",
   "execution_count": 22,
   "metadata": {},
   "outputs": [
    {
     "name": "stdout",
     "output_type": "stream",
     "text": [
      "2\n"
     ]
    }
   ],
   "source": [
    "a=9\n",
    "b=2\n",
    "c=4\n",
    "min=a\n",
    "if min>b:\n",
    "    min=b\n",
    "if min>c:\n",
    "    min=c\n",
    "print(min)"
   ]
  },
  {
   "cell_type": "code",
   "execution_count": 23,
   "metadata": {},
   "outputs": [
    {
     "name": "stdout",
     "output_type": "stream",
     "text": [
      "2\n"
     ]
    }
   ],
   "source": [
    "a=4\n",
    "b=2\n",
    "c=7\n",
    "min=a\n",
    "if min>b:\n",
    "    min=b\n",
    "if min>c:\n",
    "    min=c\n",
    "print(min)"
   ]
  },
  {
   "cell_type": "code",
   "execution_count": 24,
   "metadata": {},
   "outputs": [
    {
     "name": "stdout",
     "output_type": "stream",
     "text": [
      "1\n"
     ]
    }
   ],
   "source": [
    "a=5\n",
    "b=5\n",
    "c=1\n",
    "min=a\n",
    "if min>b:\n",
    "    min=b\n",
    "if min>c:\n",
    "    min=c\n",
    "print(min)"
   ]
  },
  {
   "cell_type": "code",
   "execution_count": 27,
   "metadata": {},
   "outputs": [
    {
     "name": "stdout",
     "output_type": "stream",
     "text": [
      "130\n"
     ]
    }
   ],
   "source": [
    "st=4\n",
    "if st<5:\n",
    "    zp=130\n",
    "else:\n",
    "    if st<=15:\n",
    "        zp=180\n",
    "    else:\n",
    "        zp=180+(st-15)*10\n",
    "print(zp)"
   ]
  },
  {
   "cell_type": "code",
   "execution_count": 28,
   "metadata": {},
   "outputs": [
    {
     "name": "stdout",
     "output_type": "stream",
     "text": [
      "180\n"
     ]
    }
   ],
   "source": [
    "st=9\n",
    "if st<5:\n",
    "    zp=130\n",
    "else:\n",
    "    if st<=15:\n",
    "        zp=180\n",
    "    else:\n",
    "        zp=180+(st-15)*10\n",
    "print(zp)"
   ]
  },
  {
   "cell_type": "code",
   "execution_count": 29,
   "metadata": {},
   "outputs": [
    {
     "name": "stdout",
     "output_type": "stream",
     "text": [
      "180\n"
     ]
    }
   ],
   "source": [
    "st=15\n",
    "if st<5:\n",
    "    zp=130\n",
    "else:\n",
    "    if st<=15:\n",
    "        zp=180\n",
    "    else:\n",
    "        zp=180+(st-15)*10\n",
    "print(zp)"
   ]
  },
  {
   "cell_type": "code",
   "execution_count": 30,
   "metadata": {},
   "outputs": [
    {
     "name": "stdout",
     "output_type": "stream",
     "text": [
      "230\n"
     ]
    }
   ],
   "source": [
    "st=20\n",
    "if st<5:\n",
    "    zp=130\n",
    "else:\n",
    "    if st<=15:\n",
    "        zp=180\n",
    "    else:\n",
    "        zp=180+(st-15)*10\n",
    "print(zp)"
   ]
  },
  {
   "cell_type": "code",
   "execution_count": 31,
   "metadata": {},
   "outputs": [
    {
     "name": "stdout",
     "output_type": "stream",
     "text": [
      "7\n"
     ]
    }
   ],
   "source": [
    "x=5\n",
    "a=2\n",
    "b=3\n",
    "if x<10:\n",
    "    y=x+a\n",
    "else:\n",
    "    if x<=23:\n",
    "        y=x+b\n",
    "    else:\n",
    "        y=x+a**2\n",
    "print(y)"
   ]
  },
  {
   "cell_type": "code",
   "execution_count": 32,
   "metadata": {},
   "outputs": [
    {
     "name": "stdout",
     "output_type": "stream",
     "text": [
      "13\n"
     ]
    }
   ],
   "source": [
    "x=10\n",
    "a=2\n",
    "b=3\n",
    "if x<10:\n",
    "    y=x+a\n",
    "else:\n",
    "    if x<=23:\n",
    "        y=x+b\n",
    "    else:\n",
    "        y=x+a**2\n",
    "print(y)"
   ]
  },
  {
   "cell_type": "code",
   "execution_count": 33,
   "metadata": {},
   "outputs": [
    {
     "name": "stdout",
     "output_type": "stream",
     "text": [
      "18\n"
     ]
    }
   ],
   "source": [
    "x=15\n",
    "a=2\n",
    "b=3\n",
    "if x<10:\n",
    "    y=x+a\n",
    "else:\n",
    "    if x<=23:\n",
    "        y=x+b\n",
    "    else:\n",
    "        y=x+a**2\n",
    "print(y)"
   ]
  },
  {
   "cell_type": "code",
   "execution_count": 34,
   "metadata": {},
   "outputs": [
    {
     "name": "stdout",
     "output_type": "stream",
     "text": [
      "25\n"
     ]
    }
   ],
   "source": [
    "x=23\n",
    "a=2\n",
    "b=2\n",
    "if x<10:\n",
    "    y=x+a\n",
    "else:\n",
    "    if x<=23:\n",
    "        y=x+b\n",
    "    else:\n",
    "        y=x+a**2\n",
    "print(y)"
   ]
  },
  {
   "cell_type": "code",
   "execution_count": 35,
   "metadata": {},
   "outputs": [
    {
     "name": "stdout",
     "output_type": "stream",
     "text": [
      "кошка подходит\n"
     ]
    }
   ],
   "source": [
    "a=19\n",
    "b=27\n",
    "c=27\n",
    "if a>c:\n",
    "    print('кошка не подходит')\n",
    "else:\n",
    "    if c<=b:\n",
    "        print('кошка подходит')\n",
    "    else: \n",
    "        print('кошка не подходит')\n"
   ]
  },
  {
   "cell_type": "code",
   "execution_count": 36,
   "metadata": {},
   "outputs": [
    {
     "name": "stdout",
     "output_type": "stream",
     "text": [
      "кошка не подходит\n"
     ]
    }
   ],
   "source": [
    "a=20\n",
    "b=25\n",
    "c=27\n",
    "if a>c:\n",
    "    print('кошка не подходит')\n",
    "else:\n",
    "    if c<=b:\n",
    "        print('кошка подходит')\n",
    "    else: \n",
    "        print('кошка не подходит')\n"
   ]
  },
  {
   "cell_type": "code",
   "execution_count": 37,
   "metadata": {},
   "outputs": [
    {
     "name": "stdout",
     "output_type": "stream",
     "text": [
      "кошка подходит\n"
     ]
    }
   ],
   "source": [
    "a=5\n",
    "b=10\n",
    "c=10\n",
    "if a>c:\n",
    "    print('кошка не подходит')\n",
    "else:\n",
    "    if c<=b:\n",
    "        print('кошка подходит')\n",
    "    else: \n",
    "        print('кошка не подходит')\n"
   ]
  },
  {
   "cell_type": "code",
   "execution_count": 38,
   "metadata": {},
   "outputs": [
    {
     "name": "stdout",
     "output_type": "stream",
     "text": [
      "кошка не подходит\n"
     ]
    }
   ],
   "source": [
    "a=8\n",
    "b=13\n",
    "c=5\n",
    "if a>c:\n",
    "    print('кошка не подходит')\n",
    "else:\n",
    "    if c<=b:\n",
    "        print('кошка подходит')\n",
    "    else: \n",
    "        print('кошка не подходит')\n"
   ]
  },
  {
   "cell_type": "code",
   "execution_count": 45,
   "metadata": {},
   "outputs": [
    {
     "name": "stdout",
     "output_type": "stream",
     "text": [
      "10 10 5\n"
     ]
    }
   ],
   "source": [
    "a=10\n",
    "b=5\n",
    "c=11\n",
    "x=6\n",
    "y=15\n",
    "if a>b:\n",
    "    print(r,a,b)\n",
    "    r=a\n",
    "    a=b\n",
    "    b=r\n",
    "else:\n",
    "    if b>c:\n",
    "        print(r,b,c)\n",
    "        r=b\n",
    "        b=c\n",
    "        c=r\n",
    "    else:\n",
    "        if a>b:\n",
    "            print(r,a,b)\n",
    "            r=a\n",
    "            a=b\n",
    "            b=r\n",
    "        else:\n",
    "            if x>y:\n",
    "                print(r,x,y)\n",
    "                r=x\n",
    "                x=y\n",
    "                y=r\n",
    "            else:\n",
    "                if a<x and b<y:\n",
    "                    print('пройдет')\n",
    "                else:\n",
    "                    print('не пройдет')\n"
   ]
  },
  {
   "cell_type": "code",
   "execution_count": 46,
   "metadata": {},
   "outputs": [
    {
     "name": "stdout",
     "output_type": "stream",
     "text": [
      "10 10 4\n"
     ]
    }
   ],
   "source": [
    "a=5\n",
    "b=10\n",
    "c=4\n",
    "x=5\n",
    "y=3\n",
    "if a>b:\n",
    "    print(r,a,b)\n",
    "    r=a\n",
    "    a=b\n",
    "    b=r\n",
    "else:\n",
    "    if b>c:\n",
    "        print(r,b,c)\n",
    "        r=b\n",
    "        b=c\n",
    "        c=r\n",
    "    else:\n",
    "        if a>b:\n",
    "            print(r,a,b)\n",
    "            r=a\n",
    "            a=b\n",
    "            b=r\n",
    "        else:\n",
    "            if x>y:\n",
    "                print(r,x,y)\n",
    "                r=x\n",
    "                x=y\n",
    "                y=r\n",
    "            else:\n",
    "                if a<x and b<y:\n",
    "                    print('пройдет')\n",
    "                else:\n",
    "                    print('не пройдет')\n"
   ]
  },
  {
   "cell_type": "code",
   "execution_count": 47,
   "metadata": {},
   "outputs": [
    {
     "name": "stdout",
     "output_type": "stream",
     "text": [
      "не пройдет\n"
     ]
    }
   ],
   "source": [
    "a=2\n",
    "b=5\n",
    "c=8\n",
    "x=2\n",
    "y=4\n",
    "if a>b:\n",
    "    print(r,a,b)\n",
    "    r=a\n",
    "    a=b\n",
    "    b=r\n",
    "else:\n",
    "    if b>c:\n",
    "        print(r,b,c)\n",
    "        r=b\n",
    "        b=c\n",
    "        c=r\n",
    "    else:\n",
    "        if a>b:\n",
    "            print(r,a,b)\n",
    "            r=a\n",
    "            a=b\n",
    "            b=r\n",
    "        else:\n",
    "            if x>y:\n",
    "                print(r,x,y)\n",
    "                r=x\n",
    "                x=y\n",
    "                y=r\n",
    "            else:\n",
    "                if a<x and b<y:\n",
    "                    print('пройдет')\n",
    "                else:\n",
    "                    print('не пройдет')\n"
   ]
  },
  {
   "cell_type": "code",
   "execution_count": 48,
   "metadata": {},
   "outputs": [
    {
     "name": "stdout",
     "output_type": "stream",
     "text": [
      "10 9 1\n"
     ]
    }
   ],
   "source": [
    "a=9\n",
    "b=1\n",
    "c=4\n",
    "x=3\n",
    "y=7\n",
    "if a>b:\n",
    "    print(r,a,b)\n",
    "    r=a\n",
    "    a=b\n",
    "    b=r\n",
    "else:\n",
    "    if b>c:\n",
    "        print(r,b,c)\n",
    "        r=b\n",
    "        b=c\n",
    "        c=r\n",
    "    else:\n",
    "        if a>b:\n",
    "            print(r,a,b)\n",
    "            r=a\n",
    "            a=b\n",
    "            b=r\n",
    "        else:\n",
    "            if x>y:\n",
    "                print(r,x,y)\n",
    "                r=x\n",
    "                x=y\n",
    "                y=r\n",
    "            else:\n",
    "                if a<x and b<y:\n",
    "                    print('пройдет')\n",
    "                else:\n",
    "                    print('не пройдет')\n"
   ]
  },
  {
   "cell_type": "code",
   "execution_count": null,
   "metadata": {},
   "outputs": [],
   "source": []
  }
 ],
 "metadata": {
  "kernelspec": {
   "display_name": "Python 3",
   "language": "python",
   "name": "python3"
  },
  "language_info": {
   "codemirror_mode": {
    "name": "ipython",
    "version": 3
   },
   "file_extension": ".py",
   "mimetype": "text/x-python",
   "name": "python",
   "nbconvert_exporter": "python",
   "pygments_lexer": "ipython3",
   "version": "3.8.5"
  }
 },
 "nbformat": 4,
 "nbformat_minor": 4
}
