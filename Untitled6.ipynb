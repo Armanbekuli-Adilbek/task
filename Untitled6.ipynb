{
 "cells": [
  {
   "cell_type": "code",
   "execution_count": 1,
   "metadata": {},
   "outputs": [
    {
     "name": "stdout",
     "output_type": "stream",
     "text": [
      "введите число a=\n",
      "2\n",
      "введите число b=\n",
      "3\n",
      "выберите операцию\n",
      "1-сложить a+b\n",
      "2-вычесть a-b\n",
      "3-произведение a*b\n",
      "4-деление a/b\n",
      "2\n",
      "сумма a-b -1\n"
     ]
    }
   ],
   "source": [
    "print ('введите число a=')\n",
    "a=int(input())\n",
    "\n",
    "print('введите число b=')\n",
    "b=int(input())\n",
    "\n",
    "print('выберите операцию')\n",
    "print('1-сложить a+b')\n",
    "print('2-вычесть a-b')\n",
    "print('3-произведение a*b')\n",
    "print('4-деление a/b')\n",
    "d=int(input())\n",
    "\n",
    "if d==1:\n",
    "    print('сумма a+b',a+b)\n",
    "if d==2:\n",
    "    print('сумма a-b',a-b)\n",
    "if d==3:\n",
    "    print('сумма a*b',a*b)\n",
    "if d==4:\n",
    "    print('сумма a/b',a/b)"
   ]
  },
  {
   "cell_type": "code",
   "execution_count": 9,
   "metadata": {},
   "outputs": [
    {
     "name": "stdout",
     "output_type": "stream",
     "text": [
      "введите число a=\n",
      "2\n",
      "введите число b=\n",
      "0\n",
      "выберите операцию\n",
      "1-сложить a+b\n",
      "2-вычесть a-b\n",
      "3-произведение a*b\n",
      "4-деление a/b\n",
      "4\n",
      "error\n"
     ]
    }
   ],
   "source": [
    "print ('введите число a=')\n",
    "a=int(input())\n",
    "\n",
    "print('введите число b=')\n",
    "b=int(input())\n",
    "\n",
    "print('выберите операцию')\n",
    "print('1-сложить a+b')\n",
    "print('2-вычесть a-b')\n",
    "print('3-произведение a*b')\n",
    "print('4-деление a/b')\n",
    "d=int(input())\n",
    "\n",
    "if d==1:\n",
    "    print('сумма a+b',a+b)\n",
    "if d==2:\n",
    "    print('сумма a-b',a-b)\n",
    "if d==3:\n",
    "    print('сумма a*b',a*b)\n",
    "if b==0:\n",
    "    print('error')\n",
    "else:\n",
    "    if d==4:\n",
    "        print('сумма a/b,a/b')\n",
    "    "
   ]
  },
  {
   "cell_type": "code",
   "execution_count": 12,
   "metadata": {},
   "outputs": [
    {
     "name": "stdout",
     "output_type": "stream",
     "text": [
      "True\n",
      "True\n",
      "True\n"
     ]
    }
   ],
   "source": [
    "a=14\n",
    "if a>10:\n",
    "    print(a>10)\n",
    "    if a!=12:\n",
    "        print(a!=12)\n",
    "        if a<=15:\n",
    "                print(a<=15)\n",
    "        else:\n",
    "            if a==18:\n",
    "                print(a==18)\n",
    "            "
   ]
  },
  {
   "cell_type": "code",
   "execution_count": 13,
   "metadata": {},
   "outputs": [
    {
     "name": "stdout",
     "output_type": "stream",
     "text": [
      "34\n",
      "36\n",
      "38\n",
      "40\n",
      "42\n",
      "44\n",
      "46\n",
      "48\n",
      "50\n",
      "52\n",
      "54\n",
      "56\n",
      "58\n",
      "60\n",
      "62\n",
      "64\n",
      "66\n"
     ]
    }
   ],
   "source": [
    "a=34\n",
    "while a<=67:\n",
    "    print(a)\n",
    "    a=a+2\n"
   ]
  },
  {
   "cell_type": "code",
   "execution_count": null,
   "metadata": {},
   "outputs": [],
   "source": []
  }
 ],
 "metadata": {
  "kernelspec": {
   "display_name": "Python 3",
   "language": "python",
   "name": "python3"
  },
  "language_info": {
   "codemirror_mode": {
    "name": "ipython",
    "version": 3
   },
   "file_extension": ".py",
   "mimetype": "text/x-python",
   "name": "python",
   "nbconvert_exporter": "python",
   "pygments_lexer": "ipython3",
   "version": "3.8.5"
  }
 },
 "nbformat": 4,
 "nbformat_minor": 4
}
